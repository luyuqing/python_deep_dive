{
 "cells": [
  {
   "cell_type": "code",
   "execution_count": 15,
   "metadata": {
    "collapsed": true
   },
   "outputs": [],
   "source": [
    "# Using closure\n",
    "\n",
    "def average():\n",
    "    total = 0\n",
    "    count = 0\n",
    "    \n",
    "    def inner(value):\n",
    "        nonlocal total\n",
    "        nonlocal count\n",
    "        \n",
    "        total += value\n",
    "        count += 1\n",
    "        return total / count\n",
    "    \n",
    "    return inner\n",
    "\n",
    "def run_average(lst):\n",
    "    ave = average()\n",
    "    for n in lst:\n",
    "        print(ave(n))"
   ]
  },
  {
   "cell_type": "code",
   "execution_count": 16,
   "metadata": {},
   "outputs": [
    {
     "name": "stdout",
     "output_type": "stream",
     "text": [
      "1.0\n",
      "2.0\n",
      "3.0\n",
      "3.75\n",
      "4.4\n"
     ]
    }
   ],
   "source": [
    "run_average([1,3,5,6,7])"
   ]
  },
  {
   "cell_type": "code",
   "execution_count": 17,
   "metadata": {
    "collapsed": true
   },
   "outputs": [],
   "source": [
    "# Using generator coroutine\n",
    "\n",
    "def average():\n",
    "    total = 0\n",
    "    count = 0\n",
    "    result = None\n",
    "    while True:\n",
    "        value = yield result\n",
    "        total += value\n",
    "        count += 1\n",
    "        result = total / count\n",
    "        \n",
    "def run_average(lst):\n",
    "    g = average()\n",
    "    next(g)\n",
    "    for n in lst:\n",
    "        res = g.send(n)\n",
    "        print(res)"
   ]
  },
  {
   "cell_type": "code",
   "execution_count": 18,
   "metadata": {},
   "outputs": [
    {
     "name": "stdout",
     "output_type": "stream",
     "text": [
      "1.0\n",
      "2.0\n",
      "3.0\n",
      "3.75\n",
      "4.4\n"
     ]
    }
   ],
   "source": [
    "run_average([1,3,5,6,7])"
   ]
  },
  {
   "cell_type": "code",
   "execution_count": null,
   "metadata": {
    "collapsed": true
   },
   "outputs": [],
   "source": []
  }
 ],
 "metadata": {
  "kernelspec": {
   "display_name": "Python 3",
   "language": "python",
   "name": "python3"
  },
  "language_info": {
   "codemirror_mode": {
    "name": "ipython",
    "version": 3
   },
   "file_extension": ".py",
   "mimetype": "text/x-python",
   "name": "python",
   "nbconvert_exporter": "python",
   "pygments_lexer": "ipython3",
   "version": "3.6.2"
  }
 },
 "nbformat": 4,
 "nbformat_minor": 2
}
